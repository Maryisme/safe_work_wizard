{
 "cells": [
  {
   "cell_type": "code",
   "execution_count": 13,
   "id": "81b67b3e",
   "metadata": {},
   "outputs": [],
   "source": [
    "import os, sys\n",
    "from pathlib import Path\n",
    "\n",
    "OPENAI_API_KEY = os.getenv(\"OPENAI_API_KEY\")\n",
    "if not OPENAI_API_KEY:\n",
    "    raise RuntimeError(\"OPENAI_API_KEY is not set. Set it before running this notebook.\")\n",
    "\n",
    "CHROMA_PATH = \"chroma\"\n",
    "TXT_DIR = Path(\"parsed/legislation\")\n",
    "COLLECTION_NAME = \"legislation_policy\"  # rebuilding this name with OpenAI 3-large\n",
    "\n",
    "if not TXT_DIR.exists():\n",
    "    raise RuntimeError(f\"TXT_DIR not found: {TXT_DIR.resolve()} — convert your PDFs first.\")\n"
   ]
  },
  {
   "cell_type": "code",
   "execution_count": 14,
   "id": "45169bcd",
   "metadata": {},
   "outputs": [],
   "source": [
    "import hashlib\n",
    "from typing import List\n",
    "from tqdm import tqdm\n",
    "\n",
    "def sha1(s: str) -> str:\n",
    "    import hashlib\n",
    "    return hashlib.sha1(s.encode(\"utf-8\")).hexdigest()\n",
    "\n",
    "def chunk_text(text: str, max_chars=1000, overlap=150) -> List[str]:\n",
    "    \"\"\"Paragraph-aware chunking suited for legislation (precise, short chunks).\"\"\"\n",
    "    paras = [p.strip() for p in text.split(\"\\n\\n\") if p.strip()]\n",
    "    chunks, buf = [], \"\"\n",
    "    for p in paras:\n",
    "        if len(buf) + len(p) + 2 <= max_chars:\n",
    "            buf = f\"{buf}\\n\\n{p}\" if buf else p\n",
    "        else:\n",
    "            if buf:\n",
    "                chunks.append(buf)\n",
    "            # handle very long single paragraphs\n",
    "            while len(p) > max_chars:\n",
    "                head = p[:max_chars]\n",
    "                chunks.append(head)\n",
    "                p = p[max(0, max_chars - overlap):]\n",
    "            buf = p\n",
    "    if buf:\n",
    "        chunks.append(buf)\n",
    "\n",
    "    # add small overlap\n",
    "    with_overlap = []\n",
    "    for i, c in enumerate(chunks):\n",
    "        if i == 0 or overlap <= 0:\n",
    "            with_overlap.append(c)\n",
    "        else:\n",
    "            with_overlap.append(chunks[i-1][-overlap:] + c)\n",
    "    return with_overlap\n"
   ]
  },
  {
   "cell_type": "code",
   "execution_count": 16,
   "id": "f215857b",
   "metadata": {},
   "outputs": [
    {
     "name": "stdout",
     "output_type": "stream",
     "text": [
      "Dropped existing collection 'legislation_policy'.\n",
      "Ready: legislation_policy\n"
     ]
    }
   ],
   "source": [
    "import chromadb\n",
    "from chromadb.utils import embedding_functions\n",
    "\n",
    "# Attach OpenAI 3-large embedding function (3072-dim)\n",
    "ef_openai_large = embedding_functions.OpenAIEmbeddingFunction(\n",
    "    api_key=OPENAI_API_KEY,\n",
    "    model_name=\"text-embedding-3-large\"  # highest quality; 3072-dim\n",
    ")\n",
    "\n",
    "client = chromadb.PersistentClient(path=CHROMA_PATH)\n",
    "\n",
    "# If a collection with same name exists (possibly wrong dimension), drop it cleanly.\n",
    "try:\n",
    "    client.delete_collection(COLLECTION_NAME)\n",
    "    print(f\"Dropped existing collection '{COLLECTION_NAME}'.\")\n",
    "except Exception:\n",
    "    pass  # ok if it doesn't exist\n",
    "\n",
    "coll = client.get_or_create_collection(\n",
    "    name=COLLECTION_NAME,\n",
    "    metadata={\"corpus_type\":\"A\",\"jurisdiction\":\"BC\",\"source\":\"legislation/policy\",\"embedding_model\":\"text-embedding-3-large\"},\n",
    "    embedding_function=ef_openai_large\n",
    ")\n",
    "print(\"Ready:\", coll.name)\n"
   ]
  },
  {
   "cell_type": "code",
   "execution_count": 17,
   "id": "0c9ab982",
   "metadata": {},
   "outputs": [
    {
     "name": "stderr",
     "output_type": "stream",
     "text": [
      "Ingesting legislation: 100%|██████████| 4/4 [00:04<00:00,  1.16s/it]"
     ]
    },
    {
     "name": "stdout",
     "output_type": "stream",
     "text": [
      "Done. Added 103 chunks. Collection count ≈ 103.\n"
     ]
    },
    {
     "name": "stderr",
     "output_type": "stream",
     "text": [
      "\n"
     ]
    }
   ],
   "source": [
    "txt_files = sorted(TXT_DIR.glob(\"*.txt\"))\n",
    "if not txt_files:\n",
    "    raise SystemExit(f\"No .txt files found in {TXT_DIR.resolve()}\")\n",
    "\n",
    "total_chunks = 0\n",
    "for f in tqdm(txt_files, desc=\"Ingesting legislation\"):\n",
    "    text = f.read_text(encoding=\"utf-8\").strip()\n",
    "    if not text:\n",
    "        print(f\"[WARN] Empty file skipped: {f.name}\")\n",
    "        continue\n",
    "\n",
    "    chunks = chunk_text(text, max_chars=1000, overlap=150)\n",
    "    base_id = sha1(f\"{f.name}:{len(text)}\")\n",
    "\n",
    "    ids = [f\"{base_id}_{i:04d}\" for i in range(len(chunks))]\n",
    "    metadatas = [{\n",
    "        \"filename\": f.name,\n",
    "        \"filepath\": str(f),\n",
    "        \"corpus_type\": \"A\",\n",
    "        \"section\": \"legislation\",\n",
    "        \"chunk_index\": i\n",
    "    } for i in range(len(chunks))]\n",
    "\n",
    "    # Batch to avoid payload/timeouts; embeddings are computed by the collection’s ef\n",
    "    BATCH = 64\n",
    "    for i in range(0, len(chunks), BATCH):\n",
    "        coll.add(\n",
    "            documents=chunks[i:i+BATCH],\n",
    "            metadatas=metadatas[i:i+BATCH],\n",
    "            ids=ids[i:i+BATCH]\n",
    "        )\n",
    "    total_chunks += len(chunks)\n",
    "\n",
    "print(f\"Done. Added {total_chunks} chunks. Collection count ≈ {coll.count()}.\")\n"
   ]
  },
  {
   "cell_type": "code",
   "execution_count": 18,
   "id": "f2e80a87",
   "metadata": {},
   "outputs": [
    {
     "name": "stdout",
     "output_type": "stream",
     "text": [
      "- worker-fact-sheet-workplace-bullying-harassment-pdf-en.txt [chunk 2]\n",
      "  s rumours  * Calling someone derogatory names  * Any other inappropriate conduct or comment that would cause someone to feel humiliated or intimidated* Offering constructive feedback, guidance, or advice about work-related behaviour  * Reasonable action taken by an employer or supervisor relating to\n",
      "\n",
      "- Define discrimination, bullying and harassment - Province of British Columbia.txt [chunk 2]\n",
      "  ng to managing the workforce. The conduct may be written, verbal,  physical, online, or electronic, a gesture or display, or any combination of these.Examples of bullying and harassment  2 of 7  2025-10-25, 6:45 p.m.  Define discrimination, bullying and harassment - Province of British C...  https:/\n",
      "\n",
      "- english-workplace-bullying-and-harassment-2014_online.txt [chunk 4]\n",
      "  get of the workplace bullying and harassment may be one person or a group.  It is not workplace bullying or harassment when an employer or supervisor:*  expresses differences of opinion; *  offers    constructive    feedback    or    advice  about work-related behaviour; takes    reasonable    actio\n",
      "\n",
      "- Define discrimination, bullying and harassment - Province of British Columbia.txt [chunk 4]\n",
      "  considered bullying and harassment  Not every inappropriate, uncivil or unpleasant behaviour is considered bullying and  3 of 7  2025-10-25, 6:45 p.m.Define discrimination, bullying and harassment - Province of British C...  https://www2.gov.bc.ca/gov/content/careers-myhr/all-employees/worki...  har\n",
      "\n",
      "- worker-fact-sheet-workplace-bullying-harassment-pdf-en.txt [chunk 1]\n",
      "  nced  * Applying and complying with the employer's  polices and procedures on bullying and harassment  Definition of workplace bullying and harassmentIncludes any inappropriate conduct or comment by a person toward a worker that the person knew or reasonably ought to have known would cause that work\n",
      "\n"
     ]
    }
   ],
   "source": [
    "# Critical: query using the SAME embedding function by calling coll.query (it already has ef attached)\n",
    "q = \"reasonable management action bullying harassment definition repeated or one serious incident\"\n",
    "res = coll.query(query_texts=[q], n_results=5)\n",
    "\n",
    "for i in range(len(res[\"ids\"][0])):\n",
    "    meta = res[\"metadatas\"][0][i]\n",
    "    doc = res[\"documents\"][0][i].replace(\"\\n\",\" \")[:300]\n",
    "    print(f\"- {meta['filename']} [chunk {meta['chunk_index']}]\")\n",
    "    print(f\"  {doc}\\n\")\n"
   ]
  }
 ],
 "metadata": {
  "kernelspec": {
   "display_name": "llms",
   "language": "python",
   "name": "python3"
  },
  "language_info": {
   "codemirror_mode": {
    "name": "ipython",
    "version": 3
   },
   "file_extension": ".py",
   "mimetype": "text/x-python",
   "name": "python",
   "nbconvert_exporter": "python",
   "pygments_lexer": "ipython3",
   "version": "3.11.11"
  }
 },
 "nbformat": 4,
 "nbformat_minor": 5
}
